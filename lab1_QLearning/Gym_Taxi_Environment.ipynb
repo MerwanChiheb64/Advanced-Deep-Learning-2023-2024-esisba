{
 "cells": [
  {
   "cell_type": "code",
   "execution_count": null,
   "metadata": {
    "pycharm": {
     "is_executing": true
    }
   },
   "outputs": [],
   "source": [
    "!pip install -r https://raw.githubusercontent.com/malkiAbdelhamid/Advanced-Deep-Learning-2023-2024-esisba/master/lab1_QLearning/requirements_lab1.txt"
   ]
  },
  {
   "cell_type": "markdown",
   "metadata": {},
   "source": [
    "#### 👉Before you solve a Reinforcement Learning problem you need to define what are\n",
    "- the environment\n",
    "- the states\n",
    "- the actions\n",
    "- the rewards\n",
    "\n",
    "#### 👉We are using the `Taxi-v3` environment from OpenAI's gym: https://gymnasium.farama.org/environments/toy_text/taxi/\n",
    "\n",
    "#### 👉`Taxi-v3` is an easy environment because the action space is small, and the state space is large but finite.\n",
    "\n",
    "#### 👉Environments with a finite number of actions and states are called tabular"
   ]
  },
  {
   "cell_type": "markdown",
   "metadata": {},
   "source": [
    "### Import the Gymnasium Library"
   ]
  },
  {
   "cell_type": "code",
   "execution_count": null,
   "metadata": {},
   "outputs": [],
   "source": [
    "import gymnasium as gym"
   ]
  },
  {
   "cell_type": "markdown",
   "metadata": {},
   "source": [
    "### We create an environment with gym.make()"
   ]
  },
  {
   "cell_type": "code",
   "execution_count": null,
   "metadata": {},
   "outputs": [],
   "source": [
    "env=gym.make(\"Taxi-v3\",render_mode=\"rgb_array\")"
   ]
  },
  {
   "cell_type": "markdown",
   "metadata": {},
   "source": [
    "### We reset the environment to its initial state with state = env.reset()"
   ]
  },
  {
   "cell_type": "code",
   "execution_count": null,
   "metadata": {},
   "outputs": [],
   "source": [
    "state=env.reset()"
   ]
  },
  {
   "cell_type": "markdown",
   "metadata": {},
   "source": [
    "#### State space\n",
    "There are 500 discrete states since there are 25 taxi positions, 5 possible locations of the passenger (including the case when the passenger is in the taxi), and 4 destination locations.\n",
    "\n",
    "Destination on the map are represented with the first letter of the color.\n",
    "\n",
    "Passenger locations:\n",
    "\n",
    "0: Red\n",
    "\n",
    "1: Green\n",
    "\n",
    "2: Yellow\n",
    "\n",
    "3: Blue\n",
    "\n",
    "4: In taxi\n",
    "\n",
    "Destinations:\n",
    "\n",
    "0: Red\n",
    "\n",
    "1: Green\n",
    "\n",
    "2: Yellow\n",
    "\n",
    "3: Blue\n",
    "\n",
    "An observation is returned as an int() that encodes the corresponding state, calculated by ((taxi_row * 5 + taxi_col) * 5 + passenger_location) * 4 + destination\n",
    "\n",
    "Note that there are 400 states that can actually be reached during an episode. The missing states correspond to situations in which the passenger is at the same location as their destination, as this typically signals the end of an episode. Four additional states can be observed right after a successful episodes, when both the passenger and the taxi are at the destination. This gives a total of 404 reachable discrete states."
   ]
  },
  {
   "cell_type": "code",
   "execution_count": null,
   "metadata": {},
   "outputs": [],
   "source": [
    "print(\"State Space {}\".format(env.observation_space.n))"
   ]
  },
  {
   "cell_type": "markdown",
   "metadata": {},
   "source": [
    "#### Action space\n",
    "The action shape is (1,) in the range {0, 5} indicating which direction to move the taxi or to pickup/drop off passengers.\n",
    "\n",
    "0: Move south (down)\n",
    "\n",
    "1: Move north (up)\n",
    "\n",
    "2: Move east (right)\n",
    "\n",
    "3: Move west (left)\n",
    "\n",
    "4: Pickup passenger\n",
    "\n",
    "5: Drop off passenger"
   ]
  },
  {
   "cell_type": "code",
   "execution_count": null,
   "metadata": {},
   "outputs": [],
   "source": [
    "print(\"Action Space {}\".format(env.action_space.n))\n"
   ]
  },
  {
   "cell_type": "markdown",
   "source": [
    "### Rewards\n",
    "- -1 per step unless other reward is triggered.\n",
    "\n",
    "- +20 delivering passenger.\n",
    "\n",
    "- -10 executing “pickup” and “drop-off” actions illegally.\n",
    "\n",
    "An action that results a noop, like moving into a wall, will incur the time step penalty. Noops can be avoided by sampling the action_mask returned in info.\n",
    "\n",
    "### Episode End\n",
    "The episode ends if the following happens:\n",
    "\n",
    "- Termination: 1. The taxi drops off the passenger.\n",
    "\n",
    "- Truncation (when using the time_limit wrapper): 1. The length of the episode is 200.\n",
    "\n",
    "### Information\n",
    "step() and reset() return a dict with the following keys:\n",
    "\n",
    "- p - transition proability for the state.\n",
    "\n",
    "- action_mask - if actions will cause a transition to a new state.\n",
    "\n",
    "As taxi is not stochastic, the transition probability is always 1.0. Implementing a transitional probability in line with the Dietterich paper (‘The fickle taxi task’) is a TODO.\n",
    "\n",
    "For some cases, taking an action will have no effect on the state of the episode. In v0.25.0, info[\"action_mask\"] contains a np.ndarray for each of the actions specifying if the action will change the state.\n",
    "\n",
    "To sample a modifying action, use action = env.action_space.sample(info[\"action_mask\"]) Or with a Q-value based algorithm action = np.argmax(q_values[obs, np.where(info[\"action_mask\"] == 1)[0]])."
   ],
   "metadata": {
    "collapsed": false
   }
  },
  {
   "cell_type": "code",
   "execution_count": null,
   "outputs": [],
   "source": [
    "import matplotlib.pyplot as plt\n",
    "env.reset()\n",
    "\n",
    "image=env.render()\n",
    "plt.imshow(image)"
   ],
   "metadata": {
    "collapsed": false
   }
  },
  {
   "cell_type": "code",
   "execution_count": null,
   "outputs": [],
   "source": [
    "next_state, reward, isTerminated, isTruncated, info=env.step(1)\n",
    "print(next_state, reward, isTerminated, isTruncated, info)\n",
    "image=env.render()\n",
    "plt.imshow(image)"
   ],
   "metadata": {
    "collapsed": false
   }
  },
  {
   "cell_type": "code",
   "execution_count": null,
   "metadata": {},
   "outputs": [],
   "source": [
    "import imageio\n",
    "import numpy as np\n",
    "images=[]\n",
    "\n",
    "env.step(1)\n",
    "images.append(env.render())\n",
    "\n",
    "env.step(1)\n",
    "images.append(env.render())\n",
    "\n",
    "env.step(1)\n",
    "images.append(env.render())\n",
    "\n",
    "env.step(2)\n",
    "images.append(env.render())\n",
    "\n",
    "env.step(2)\n",
    "images.append(env.render())\n",
    "imageio.mimsave('./render.mp4', [np.array(img) for i, img in enumerate(images)], fps=1)"
   ]
  },
  {
   "cell_type": "code",
   "execution_count": null,
   "metadata": {},
   "outputs": [],
   "source": [
    "from base64 import b64encode\n",
    "from IPython.display import HTML\n",
    "from IPython import display\n",
    "\n",
    "# Show video\n",
    "compressed_path = 'render.mp4'\n",
    "mp4 = open(compressed_path,'rb').read()\n",
    "data_url = \"data:video/mp4;base64,\" + b64encode(mp4).decode()\n",
    "\n",
    "\n",
    "HTML(\"\"\"<video width=400 controls>      <source src=\"%s\" type=\"video/mp4\"></video>\"\"\" % data_url)"
   ]
  }
 ],
 "metadata": {
  "kernelspec": {
   "display_name": "Python 3 (ipykernel)",
   "language": "python",
   "name": "python3"
  },
  "language_info": {
   "codemirror_mode": {
    "name": "ipython",
    "version": 3
   },
   "file_extension": ".py",
   "mimetype": "text/x-python",
   "name": "python",
   "nbconvert_exporter": "python",
   "pygments_lexer": "ipython3",
   "version": "3.7.4"
  }
 },
 "nbformat": 4,
 "nbformat_minor": 1
}
